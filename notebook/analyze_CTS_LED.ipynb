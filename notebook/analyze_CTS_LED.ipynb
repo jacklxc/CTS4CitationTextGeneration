{
 "cells": [
  {
   "cell_type": "code",
   "execution_count": 1,
   "id": "779f0298",
   "metadata": {},
   "outputs": [],
   "source": [
    "import os\n",
    "import json\n",
    "from datasets import load_from_disk, load_dataset, load_metric\n",
    "import pickle\n",
    "from tqdm import tqdm\n",
    "import numpy as np\n",
    "from nltk.corpus import stopwords"
   ]
  },
  {
   "cell_type": "code",
   "execution_count": 3,
   "id": "35865051",
   "metadata": {},
   "outputs": [],
   "source": [
    "from transformers import AutoTokenizer\n",
    "from dataset import CitationTextGenerationRAGDataset"
   ]
  },
  {
   "cell_type": "code",
   "execution_count": 4,
   "id": "a6070d58",
   "metadata": {},
   "outputs": [],
   "source": [
    "stops = set(stopwords.words('english'))\n",
    "rouge = load_metric(\"rouge\")"
   ]
  },
  {
   "cell_type": "code",
   "execution_count": 5,
   "id": "f7be1847",
   "metadata": {},
   "outputs": [],
   "source": [
    "def clean_stop(text):\n",
    "    cleaned = []\n",
    "    for word in text.split():\n",
    "        if word not in stops:\n",
    "            cleaned.append(word)\n",
    "    return \" \".join(cleaned)"
   ]
  },
  {
   "cell_type": "code",
   "execution_count": 6,
   "id": "3f569066",
   "metadata": {},
   "outputs": [],
   "source": [
    "def remove_citation_marks(text, citations):\n",
    "    text = text.replace(\"\\n\",\" \")\n",
    "    for citation in citations.split(\"#\"):\n",
    "        for token in citation.split():\n",
    "            text = text.replace(token,\"\")\n",
    "    return text"
   ]
  },
  {
   "cell_type": "code",
   "execution_count": 7,
   "id": "16297a9d",
   "metadata": {},
   "outputs": [],
   "source": [
    "def ROUGE(predictions, references, use_stemmer=True):\n",
    "    result = rouge.compute(predictions=predictions, references=references, use_stemmer=use_stemmer)\n",
    "    return {k: round(v.mid.fmeasure * 100, 4) for k, v in result.items()}"
   ]
  },
  {
   "cell_type": "code",
   "execution_count": 8,
   "id": "a3face17",
   "metadata": {},
   "outputs": [],
   "source": [
    "def ROUGE_recall(predictions, references, use_stemmer=True):\n",
    "    result = rouge.compute(predictions=predictions, references=references, use_stemmer=use_stemmer)\n",
    "    return {k: round(v.mid.recall * 100, 4) for k, v in result.items()}"
   ]
  },
  {
   "cell_type": "code",
   "execution_count": 37,
   "id": "75314034",
   "metadata": {},
   "outputs": [],
   "source": [
    "passages_path = os.path.join(\"cited_text_embeddings_sentence_better\", \"cited_papers\") \n",
    "#passages_path = \"cited_text_embeddings_citation_mark/cited_papers\"\n",
    "cited_dataset = load_from_disk(passages_path)"
   ]
  },
  {
   "cell_type": "code",
   "execution_count": 38,
   "id": "b1de2ef9",
   "metadata": {},
   "outputs": [],
   "source": [
    "outputs = []\n",
    "with open(\"LED_sentence_CTS_citation_span_generation.jsonl\") as f:\n",
    "    for line in f:\n",
    "        outputs.append(json.loads(line))"
   ]
  },
  {
   "cell_type": "code",
   "execution_count": 40,
   "id": "2452293b",
   "metadata": {},
   "outputs": [],
   "source": [
    "keyword_ids = {}\n",
    "# sorted_sentence_ROUGE_test\n",
    "# abstract_test_doc_ids\n",
    "# test_retrieved_sentence_CTS\n",
    "with open(\"test_retrieved_sentence_CTS.jsonl\") as f:\n",
    "    for line in f:\n",
    "        obj = json.loads(line)\n",
    "        keyword_ids[obj[\"id\"]] = obj[\"cited_indices\"][:10]"
   ]
  },
  {
   "cell_type": "code",
   "execution_count": 41,
   "id": "e2f5b8ec",
   "metadata": {},
   "outputs": [
    {
     "name": "stderr",
     "output_type": "stream",
     "text": [
      "100%|██████████████████████████████████████████████████████████████| 1206/1206 [00:06<00:00, 196.27it/s]\n"
     ]
    }
   ],
   "source": [
    "use_stemmer = True\n",
    "cleaned_predictions = []\n",
    "cleaned_targets = []\n",
    "predictions = []\n",
    "targets = []\n",
    "prediction_no_stop = []\n",
    "target_no_stop = []\n",
    "all_retrieved = []\n",
    "for candidate in tqdm(outputs):\n",
    "    prediction = remove_citation_marks(candidate[\"prediction\"][0], candidate[\"citations\"])\n",
    "    #prediction = candidate[\"prediction\"][0].replace(\"\\n\",\" \")\n",
    "    target = remove_citation_marks(candidate[\"target\"], candidate[\"citations\"])\n",
    "    #target = candidate[\"gold_label\"][0]\n",
    "    cleaned_predictions.append(prediction)\n",
    "    cleaned_targets.append(target)\n",
    "    predictions.append(candidate[\"prediction\"][0])\n",
    "    targets.append(candidate[\"target\"])\n",
    "    all_retrieved_texts = []\n",
    "    for idx in keyword_ids[candidate[\"id\"]]:\n",
    "        if idx >= 0:\n",
    "            cited_text = cited_dataset[idx][\"text\"]\n",
    "            all_retrieved_texts.append(cited_text)\n",
    "    cleaned_target = clean_stop(candidate[\"target\"])\n",
    "    target_no_stop.append(cleaned_target)\n",
    "    cleaned_prediction = clean_stop(candidate[\"prediction\"][0])\n",
    "    prediction_no_stop.append(cleaned_prediction)\n",
    "    all_retrieved.append(\" \".join(all_retrieved_texts))\n"
   ]
  },
  {
   "cell_type": "code",
   "execution_count": 42,
   "id": "3b2795ef",
   "metadata": {},
   "outputs": [
    {
     "name": "stderr",
     "output_type": "stream",
     "text": [
      "INFO:absl:Using default tokenizer.\n",
      "INFO:absl:Using default tokenizer.\n"
     ]
    },
    {
     "name": "stdout",
     "output_type": "stream",
     "text": [
      "{'rouge1': 36.598, 'rouge2': 17.7807, 'rougeL': 31.2337, 'rougeLsum': 32.0303}\n"
     ]
    },
    {
     "name": "stderr",
     "output_type": "stream",
     "text": [
      "INFO:absl:Using default tokenizer.\n"
     ]
    },
    {
     "name": "stdout",
     "output_type": "stream",
     "text": [
      "{'rouge1': 24.4983, 'rouge2': 6.7446, 'rougeL': 19.4368, 'rougeLsum': 19.4503}\n",
      "{'rouge1': 75.4517, 'rouge2': 39.171, 'rougeL': 62.6386, 'rougeLsum': 62.6028}\n"
     ]
    }
   ],
   "source": [
    "print(ROUGE(predictions, targets, use_stemmer=use_stemmer))\n",
    "print(ROUGE(cleaned_predictions, cleaned_targets, use_stemmer=use_stemmer))\n",
    "print(ROUGE_recall(all_retrieved, prediction_no_stop, use_stemmer=use_stemmer))"
   ]
  },
  {
   "cell_type": "code",
   "execution_count": null,
   "id": "51157797",
   "metadata": {},
   "outputs": [],
   "source": []
  }
 ],
 "metadata": {
  "kernelspec": {
   "display_name": "Python 3 (ipykernel)",
   "language": "python",
   "name": "python3"
  },
  "language_info": {
   "codemirror_mode": {
    "name": "ipython",
    "version": 3
   },
   "file_extension": ".py",
   "mimetype": "text/x-python",
   "name": "python",
   "nbconvert_exporter": "python",
   "pygments_lexer": "ipython3",
   "version": "3.7.13"
  }
 },
 "nbformat": 4,
 "nbformat_minor": 5
}
