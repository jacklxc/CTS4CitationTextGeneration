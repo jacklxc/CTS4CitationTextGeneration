{
 "cells": [
  {
   "cell_type": "code",
   "execution_count": 31,
   "id": "2290fce3",
   "metadata": {},
   "outputs": [],
   "source": [
    "import csv\n",
    "import requests\n",
    "import xml.etree.ElementTree as ET\n",
    "import copy\n",
    "from glob import glob\n",
    "import os\n",
    "from tqdm import tqdm\n",
    "import jsonlines\n",
    "import sys\n",
    "import json\n",
    "from rouge_score import rouge_scorer\n",
    "from nltk.corpus import stopwords\n",
    "from nltk import word_tokenize\n",
    "import numpy as np\n",
    "import matplotlib.pyplot as plt\n",
    "from matplotlib.ticker import MaxNLocator\n",
    "from datasets import load_from_disk, load_dataset, load_metric"
   ]
  },
  {
   "cell_type": "code",
   "execution_count": 2,
   "id": "df3b4be4",
   "metadata": {},
   "outputs": [],
   "source": [
    "stops = set(stopwords.words('english'))"
   ]
  },
  {
   "cell_type": "code",
   "execution_count": 3,
   "id": "c341910d",
   "metadata": {},
   "outputs": [],
   "source": [
    "def remove_stop_words(sentence):\n",
    "    tokens = word_tokenize(sentence)\n",
    "    cleaned_tokens = []\n",
    "    for token in tokens:\n",
    "        if token not in stops:\n",
    "            cleaned_tokens.append(token)\n",
    "    return \" \".join(cleaned_tokens)"
   ]
  },
  {
   "cell_type": "code",
   "execution_count": 4,
   "id": "0a0a00b2",
   "metadata": {},
   "outputs": [],
   "source": [
    "scorer = rouge_scorer.RougeScorer(['rouge1','rouge2'], use_stemmer=True)\n",
    "rouge = load_metric(\"rouge\")"
   ]
  },
  {
   "cell_type": "code",
   "execution_count": 5,
   "id": "9b7bf5a9",
   "metadata": {},
   "outputs": [],
   "source": [
    "def ROUGE(predictions, references, use_stemmer=True):\n",
    "    result = rouge.compute(predictions=predictions, references=references, use_stemmer=use_stemmer)\n",
    "    return {k: round(v.mid.fmeasure * 100, 4) for k, v in result.items()}"
   ]
  },
  {
   "cell_type": "code",
   "execution_count": 6,
   "id": "9ccabd54",
   "metadata": {},
   "outputs": [],
   "source": [
    "def ROUGE_recall(predictions, references, use_stemmer=True):\n",
    "    result = rouge.compute(predictions=predictions, references=references, use_stemmer=use_stemmer)\n",
    "    return {k: round(v.mid.recall * 100, 4) for k, v in result.items()}"
   ]
  },
  {
   "cell_type": "code",
   "execution_count": 7,
   "id": "0dc942f4",
   "metadata": {},
   "outputs": [],
   "source": [
    "CTS_annotations = []\n",
    "with open(\"CitationSupport.jsonl\") as f:\n",
    "    for line in f:\n",
    "        CTS_annotations.append(json.loads(line))\n",
    "        "
   ]
  },
  {
   "cell_type": "code",
   "execution_count": 8,
   "id": "82bc6675",
   "metadata": {
    "scrolled": false
   },
   "outputs": [],
   "source": [
    "CTS_by_citation = {}\n",
    "for annotation in CTS_annotations:\n",
    "    if \"citing_sentence\" in annotation:\n",
    "        ID = annotation[\"citing_paper\"] + \"_\" + annotation[\"cids\"]\n",
    "        this_citation = CTS_by_citation.get(ID,{\n",
    "            \"id\": ID,\n",
    "            \"citing_sentence\": annotation[\"citing_sentence\"],\n",
    "            \"citing_paper\": annotation[\"citing_paper\"],\n",
    "            \"cited_papers\": {},\n",
    "        })\n",
    "        this_cited_paper = this_citation[\"cited_papers\"].get(annotation[\"cited_paper\"], {\n",
    "            \"cited_paper\": annotation[\"cited_paper\"],\n",
    "            \"citation_marker\": annotation[\"citation_marker\"],\n",
    "            \"support_sentences\": set([]),\n",
    "        })\n",
    "        this_cited_paper[\"support_sentences\"].add(annotation[\"support_sentence\"])\n",
    "        this_citation[\"cited_papers\"][annotation[\"cited_paper\"]] = this_cited_paper\n",
    "        CTS_by_citation[ID] = this_citation"
   ]
  },
  {
   "cell_type": "code",
   "execution_count": 9,
   "id": "e3cef5a8",
   "metadata": {},
   "outputs": [
    {
     "data": {
      "text/plain": [
       "150"
      ]
     },
     "execution_count": 9,
     "metadata": {},
     "output_type": "execute_result"
    }
   ],
   "source": [
    "len(CTS_by_citation)"
   ]
  },
  {
   "cell_type": "code",
   "execution_count": 10,
   "id": "fe7cb971",
   "metadata": {},
   "outputs": [
    {
     "data": {
      "text/plain": [
       "{'Bannard-and-Callison-Burch-2005': {'cited_paper': 'Bannard-and-Callison-Burch-2005',\n",
       "  'citation_marker': 'Bannard and Callison-Burch (2005)',\n",
       "  'support_sentences': {'Indeed our judges thought the meaning of the paraphrases to be correct in 64.5% of cases.',\n",
       "   'Paraphrases that were judged to preserve both meaning and grammaticality were considered to be correct, and examples which failed on either judgment were considered to be incorrect.',\n",
       "   'We created a total of 289 such evaluation sets, with a total of 1366 unique sentences created through substitution.',\n",
       "   'We had two native English speakers produce judgments as to whether the new sentences preserved the meaning of the original phrase and as to whether they remained grammatical.',\n",
       "   'We use the heuristic for phrase alignment described in Och and Ney (2003) which aligns phrases by incrementally building longer phrases from words and phrases which have adjacent alignment points.'}}}"
      ]
     },
     "execution_count": 10,
     "metadata": {},
     "output_type": "execute_result"
    }
   ],
   "source": [
    "CTS_by_citation['C08-1013_36'][\"cited_papers\"]"
   ]
  },
  {
   "cell_type": "code",
   "execution_count": 11,
   "id": "feb1592c",
   "metadata": {},
   "outputs": [],
   "source": [
    "paper_paths = glob(os.path.join(\"BasicCorpus\",\"*\"))"
   ]
  },
  {
   "cell_type": "code",
   "execution_count": 12,
   "id": "b47dab78",
   "metadata": {},
   "outputs": [],
   "source": [
    "all_paper_paths = []\n",
    "for path in paper_paths:\n",
    "    paper_subpaths = glob(os.path.join(path,\"*\"))\n",
    "    all_paper_paths.extend(paper_subpaths)"
   ]
  },
  {
   "cell_type": "code",
   "execution_count": 13,
   "id": "d9421be1",
   "metadata": {},
   "outputs": [
    {
     "data": {
      "text/plain": [
       "239"
      ]
     },
     "execution_count": 13,
     "metadata": {},
     "output_type": "execute_result"
    }
   ],
   "source": [
    "len(all_paper_paths)"
   ]
  },
  {
   "cell_type": "code",
   "execution_count": 14,
   "id": "5a12c959",
   "metadata": {
    "scrolled": true
   },
   "outputs": [
    {
     "name": "stdout",
     "output_type": "stream",
     "text": [
      "1 BasicCorpus/C08-1013/C08-1013.xml\n",
      "2 BasicCorpus/N09-1019/Li-et-al.,-2004.xml\n",
      "3 BasicCorpus/N09-1019/Chinchor,-1998.xml\n",
      "4 BasicCorpus/N09-1019/N09-1019.xml\n",
      "5 BasicCorpus/N09-1019/Riloff-and-Jones,-1999.xml\n",
      "6 BasicCorpus/N09-1019/Black-et-al.-1998.xml\n",
      "7 BasicCorpus/P08-1032/Smeulders-et-al.,-2000.xml\n",
      "8 BasicCorpus/P08-1032/P08-1032.xml\n",
      "9 BasicCorpus/P08-1032/Vailaya-et-al.,-2001.xml\n",
      "10 BasicCorpus/N09-1027/N09-1027.xml\n",
      "11 BasicCorpus/p343-ko/13.xml\n",
      "12 BasicCorpus/p343-ko/p343-ko.xml\n",
      "13 BasicCorpus/p343-ko/26.xml\n",
      "14 BasicCorpus/p343-ko/2.xml\n",
      "15 BasicCorpus/N09-1034/Ristad-and-Yianilos,-1998.xml\n",
      "16 BasicCorpus/N09-1034/Jung-et-al.,-2000.xml\n",
      "17 BasicCorpus/N09-1034/N09-1034.xml\n",
      "18 BasicCorpus/P08-1027/Nastase-et-al.,-2006.xml\n",
      "19 BasicCorpus/P08-1027/P08-1027.xml\n",
      "20 BasicCorpus/P08-1027/Strube-and-Ponzetto,-2006.xml\n",
      "21 BasicCorpus/p203-wu/p203-wu.xml\n",
      "22 BasicCorpus/p203-wu/23.xml\n",
      "23 BasicCorpus/p203-wu/24.xml\n",
      "24 BasicCorpus/C08-1064/C08-1064.xml\n",
      "25 BasicCorpus/p27-kalashnikov/8.xml\n",
      "26 BasicCorpus/p27-kalashnikov/p27-kalashnikov.xml\n",
      "27 BasicCorpus/p27-kalashnikov/3.xml\n",
      "28 BasicCorpus/C08-1031/Wilson-et-al-2004.xml\n",
      "29 BasicCorpus/C08-1031/Hatzivassiloglou-and-McKeown-1997.xml\n",
      "30 BasicCorpus/C08-1031/Jindal-and-Liu-2006.xml\n",
      "31 BasicCorpus/C08-1031/C08-1031.xml\n",
      "32 BasicCorpus/P08-1052/Lauer-1995.xml\n",
      "33 BasicCorpus/P08-1052/Alshawi-and-Carter,-1994.xml\n",
      "34 BasicCorpus/P08-1052/P08-1052.xml\n",
      "35 BasicCorpus/p79-raghavan/16.xml\n",
      "36 BasicCorpus/p79-raghavan/p79-raghavan.xml\n",
      "37 BasicCorpus/p79-raghavan/6.xml\n",
      "38 BasicCorpus/P08-1001/P08-1001.xml\n",
      "39 BasicCorpus/P08-1001/Strube-and-Ponzetto-2006.xml\n",
      "40 BasicCorpus/P08-1006/P08-1006.xml\n",
      "41 BasicCorpus/P08-1006/Pyysalo-et-al.,-2007a.xml\n",
      "42 BasicCorpus/P07-1034/P07-1034.xml\n",
      "43 BasicCorpus/N09-1008/N09-1008.xml\n",
      "44 BasicCorpus/E09-1018/E09-1018.xml\n",
      "45 BasicCorpus/E09-1018/Cardie-and-Wagstaff,-1999.xml\n"
     ]
    }
   ],
   "source": [
    "reading_error = 0\n",
    "all_sentences = {}\n",
    "cleaned_sentence_map = {}\n",
    "for paper_path in all_paper_paths:\n",
    "    try:\n",
    "        paper_id = paper_path.split(\"/\")[-1].replace(\".xml\",\"\")\n",
    "        tree = ET.parse(paper_path)\n",
    "        root = tree.getroot()\n",
    "        sentences = []\n",
    "        for node in root.findall(\"Sentence\"):\n",
    "            sentence = node.text.strip().replace(\"  \",\" \")\n",
    "            sentences.append(sentence)\n",
    "            cleaned_sentence_map[sentence] = remove_stop_words(sentence)\n",
    "        all_sentences[paper_id] = sentences\n",
    "    except:\n",
    "        \n",
    "        reading_error += 1\n",
    "        print(reading_error, paper_path)"
   ]
  },
  {
   "cell_type": "code",
   "execution_count": 15,
   "id": "4e118a37",
   "metadata": {},
   "outputs": [
    {
     "name": "stderr",
     "output_type": "stream",
     "text": [
      "100%|█████████████████████████████████████████████████████████████████████████████████████████████| 150/150 [01:09<00:00,  2.16it/s]\n"
     ]
    }
   ],
   "source": [
    "for citation_id, citation in tqdm(CTS_by_citation.items()):\n",
    "    citing_sentence = remove_stop_words(citation[\"citing_sentence\"])\n",
    "    for cited_paper_id, cited_paper in citation[\"cited_papers\"].items():\n",
    "        sentence_scores = []\n",
    "        if cited_paper_id in all_sentences:\n",
    "            for sentence in all_sentences[cited_paper_id]:\n",
    "                scores = scorer.score(citing_sentence, cleaned_sentence_map[sentence])\n",
    "                performance = (scores[\"rouge1\"].recall + scores[\"rouge2\"].recall) / 2\n",
    "                sentence_scores.append(performance)\n",
    "            cited_paper[\"sentence_scores\"] = sentence_scores"
   ]
  },
  {
   "cell_type": "code",
   "execution_count": 16,
   "id": "2a0ffd3e",
   "metadata": {},
   "outputs": [],
   "source": [
    "for citation_id, citation in CTS_by_citation.items():\n",
    "    all_candidate_sentences = []\n",
    "    all_sentence_scores = []\n",
    "    all_support_sentences = []\n",
    "    for cited_paper_id, cited_paper in citation[\"cited_papers\"].items():\n",
    "        if \"sentence_scores\" in cited_paper:\n",
    "            all_candidate_sentences.extend(all_sentences[cited_paper_id])\n",
    "            all_sentence_scores.extend(cited_paper[\"sentence_scores\"])\n",
    "            assert(len(all_candidate_sentences) == len(all_sentence_scores))\n",
    "        all_support_sentences.extend(cited_paper[\"support_sentences\"])\n",
    "    sorted_indices = np.argsort(all_sentence_scores)[::-1].tolist()\n",
    "    all_sorted_sentences = []\n",
    "    for idx in sorted_indices:\n",
    "        all_sorted_sentences.append(all_candidate_sentences[idx])\n",
    "    citation[\"sorted_support_sentences\"] = all_sorted_sentences\n",
    "    citation[\"all_support_sentences\"] = all_support_sentences"
   ]
  },
  {
   "cell_type": "code",
   "execution_count": 17,
   "id": "9de00f1a",
   "metadata": {},
   "outputs": [],
   "source": [
    "n_sentences = []\n",
    "for k,v in all_sentences.items():\n",
    "    n_sentences.append(len(v))"
   ]
  },
  {
   "cell_type": "code",
   "execution_count": 70,
   "id": "6bc84ef6",
   "metadata": {},
   "outputs": [],
   "source": [
    "scisumm_n_sentences = [191,\n",
    " 113,\n",
    " 176,\n",
    " 200,\n",
    " 154,\n",
    " 147,\n",
    " 415,\n",
    " 194,\n",
    " 114,\n",
    " 203,\n",
    " 198,\n",
    " 142,\n",
    " 175,\n",
    " 165,\n",
    " 233,\n",
    " 111,\n",
    " 179,\n",
    " 288,\n",
    " 257,\n",
    " 149]"
   ]
  },
  {
   "cell_type": "code",
   "execution_count": 90,
   "id": "41e1bec1",
   "metadata": {},
   "outputs": [
    {
     "data": {
      "image/png": "[encoded data removed]",
      "text/plain": [
       "<Figure size 600x450 with 1 Axes>"
      ]
     },
     "metadata": {},
     "output_type": "display_data"
    }
   ],
   "source": [
    "fig, ax = plt.subplots(figsize=(6,4.5))\n",
    "A_hist = ax.hist(n_sentences, weights=np.ones(len(n_sentences)) / len(n_sentences), color=\"green\", alpha=0.5, bins=20)\n",
    "scisumm_hist = ax.hist(scisumm_n_sentences, weights=np.ones(len(scisumm_n_sentences)) / len(scisumm_n_sentences), alpha=0.5, color=\"orange\", bins=10)\n",
    "\n",
    "# Add a legend\n",
    "plt.legend((\"AbuRa'ed\", 'CL-SciSumm'), loc='center')\n",
    "\n",
    "plt.xlabel('# of Sentences per Paper')\n",
    "plt.ylabel('Fraction')\n",
    "ax.spines['top'].set_visible(False)\n",
    "ax.spines['right'].set_visible(False)\n",
    "ax.xaxis.set_ticks_position('bottom')\n",
    "ax.yaxis.set_ticks_position('left')\n",
    "#plt.show()\n",
    "plt.savefig(\"paper_lengths.pdf\",dpi=600,bbox_inches='tight')"
   ]
  },
  {
   "cell_type": "code",
   "execution_count": 19,
   "id": "710585ed",
   "metadata": {},
   "outputs": [
    {
     "name": "stdout",
     "output_type": "stream",
     "text": [
      "{'rouge1': 45.6574, 'rouge2': 12.3712, 'rougeL': 32.8036, 'rougeLsum': 32.8461}\n",
      "{'rouge1': 12.0101, 'rouge2': 3.5035, 'rougeL': 8.6414, 'rougeLsum': 8.699}\n"
     ]
    }
   ],
   "source": [
    "use_stemmer = True\n",
    "\n",
    "targets = []\n",
    "concat_annotated_CTS = []\n",
    "for citation_id, citation in CTS_by_citation.items():\n",
    "    targets.append(remove_stop_words(citation[\"citing_sentence\"]))\n",
    "    concat_annotated = \"\"\n",
    "    for sent in citation[\"all_support_sentences\"]:\n",
    "        concat_annotated += remove_stop_words(sent)\n",
    "    concat_annotated_CTS.append(concat_annotated)\n",
    "\n",
    "annotated_rouge_recall = ROUGE_recall(concat_annotated_CTS, targets, use_stemmer=use_stemmer)\n",
    "annotated_rouge = ROUGE(concat_annotated_CTS, targets, use_stemmer=use_stemmer)\n",
    "\n",
    "print(annotated_rouge_recall)\n",
    "print(annotated_rouge)"
   ]
  },
  {
   "cell_type": "code",
   "execution_count": 91,
   "id": "1e63ca1f",
   "metadata": {},
   "outputs": [],
   "source": [
    "use_stemmer = True\n",
    "hit_1_recall = []\n",
    "hit_each_recall = []\n",
    "hit_1_precision = []\n",
    "hit_each_precision = []\n",
    "for k in range(1, 41):\n",
    "    hit = 0\n",
    "    total_hit = 0\n",
    "    total_n = 0\n",
    "    total_k = 0\n",
    "    total = 0\n",
    "    targets = []\n",
    "    concat_retrieved_CTS = []\n",
    "    for citation_id, citation in CTS_by_citation.items():\n",
    "        targets.append(remove_stop_words(citation[\"citing_sentence\"]))\n",
    "        retrieved_sentences = citation[\"sorted_support_sentences\"][:k]\n",
    "        retrieved_sentences = set(retrieved_sentences)\n",
    "        n_hit = len(retrieved_sentences.intersection(citation[\"all_support_sentences\"]))\n",
    "        n_overlap = len(set(citation[\"sorted_support_sentences\"]).intersection(citation[\"all_support_sentences\"]))\n",
    "        if n_hit > 0:\n",
    "            hit += 1\n",
    "        total_hit += n_hit\n",
    "        if n_overlap > 0:\n",
    "            total_k += k\n",
    "            total_n += 1\n",
    "            total += n_overlap\n",
    "    hit_1_recall.append(round(hit/total_n,4))\n",
    "    hit_each_recall.append(round(total_hit/total,4))\n",
    "    hit_1_precision.append(round(hit/total_k,4))\n",
    "    hit_each_precision.append(round(total_hit/total_k,4))"
   ]
  },
  {
   "cell_type": "code",
   "execution_count": 93,
   "id": "47cf9164",
   "metadata": {},
   "outputs": [
    {
     "data": {
      "text/plain": [
       "[0.2946,\n",
       " 0.2868,\n",
       " 0.261,\n",
       " 0.2461,\n",
       " 0.2558,\n",
       " 0.2403,\n",
       " 0.2359,\n",
       " 0.2335,\n",
       " 0.2283,\n",
       " 0.2217,\n",
       " 0.2163,\n",
       " 0.2106,\n",
       " 0.2027,\n",
       " 0.1955,\n",
       " 0.1922,\n",
       " 0.187,\n",
       " 0.1838,\n",
       " 0.183,\n",
       " 0.1807,\n",
       " 0.1775,\n",
       " 0.1739,\n",
       " 0.1709,\n",
       " 0.1702,\n",
       " 0.1673,\n",
       " 0.1653,\n",
       " 0.1652,\n",
       " 0.1628,\n",
       " 0.1595,\n",
       " 0.1569,\n",
       " 0.1558,\n",
       " 0.1535,\n",
       " 0.1514,\n",
       " 0.1487,\n",
       " 0.1473,\n",
       " 0.1449,\n",
       " 0.1441,\n",
       " 0.1427,\n",
       " 0.1424,\n",
       " 0.1409,\n",
       " 0.1384]"
      ]
     },
     "execution_count": 93,
     "metadata": {},
     "output_type": "execute_result"
    }
   ],
   "source": [
    "hit_each_precision"
   ]
  },
  {
   "cell_type": "code",
   "execution_count": 92,
   "id": "fc6439cd",
   "metadata": {},
   "outputs": [
    {
     "data": {
      "text/plain": [
       "[0.2946,\n",
       " 0.2364,\n",
       " 0.1938,\n",
       " 0.1609,\n",
       " 0.1473,\n",
       " 0.124,\n",
       " 0.1096,\n",
       " 0.0979,\n",
       " 0.0896,\n",
       " 0.0822,\n",
       " 0.0768,\n",
       " 0.0717,\n",
       " 0.0662,\n",
       " 0.062,\n",
       " 0.0599,\n",
       " 0.0562,\n",
       " 0.0538,\n",
       " 0.0517,\n",
       " 0.049,\n",
       " 0.0469,\n",
       " 0.0447,\n",
       " 0.043,\n",
       " 0.0411,\n",
       " 0.0394,\n",
       " 0.0378,\n",
       " 0.0367,\n",
       " 0.0353,\n",
       " 0.0341,\n",
       " 0.0331,\n",
       " 0.032,\n",
       " 0.031,\n",
       " 0.0303,\n",
       " 0.0294,\n",
       " 0.0285,\n",
       " 0.0277,\n",
       " 0.0271,\n",
       " 0.0266,\n",
       " 0.0259,\n",
       " 0.0252,\n",
       " 0.0246]"
      ]
     },
     "execution_count": 92,
     "metadata": {},
     "output_type": "execute_result"
    }
   ],
   "source": [
    "hit_1_precision"
   ]
  },
  {
   "cell_type": "code",
   "execution_count": 20,
   "id": "6a6f5313",
   "metadata": {},
   "outputs": [
    {
     "name": "stdout",
     "output_type": "stream",
     "text": [
      "1 {'rouge1': 23.466, 'rouge2': 9.5103, 'rougeL': 18.9756, 'rougeLsum': 19.0395} {'rouge1': 23.4639, 'rouge2': 9.7309, 'rougeL': 19.077, 'rougeLsum': 19.1378}\n",
      "2 {'rouge1': 32.1261, 'rouge2': 12.1363, 'rougeL': 24.044, 'rougeLsum': 24.1342} {'rouge1': 22.4087, 'rouge2': 8.3969, 'rougeL': 16.525, 'rougeLsum': 16.5607}\n",
      "3 {'rouge1': 37.5973, 'rouge2': 13.6974, 'rougeL': 26.4312, 'rougeLsum': 26.5479} {'rouge1': 19.9838, 'rouge2': 7.1586, 'rougeL': 13.9585, 'rougeLsum': 13.9828}\n",
      "4 {'rouge1': 41.1112, 'rouge2': 14.4141, 'rougeL': 29.224, 'rougeLsum': 29.2963} {'rouge1': 17.6213, 'rouge2': 6.0264, 'rougeL': 12.3399, 'rougeLsum': 12.3459}\n",
      "5 {'rouge1': 43.9379, 'rouge2': 15.1208, 'rougeL': 31.3745, 'rougeLsum': 31.4114} {'rouge1': 15.9257, 'rouge2': 5.2821, 'rougeL': 11.0949, 'rougeLsum': 11.1029}\n",
      "6 {'rouge1': 46.6242, 'rouge2': 15.9646, 'rougeL': 33.1273, 'rougeLsum': 33.1777} {'rouge1': 14.8968, 'rouge2': 4.876, 'rougeL': 10.2738, 'rougeLsum': 10.2805}\n",
      "7 {'rouge1': 47.8008, 'rouge2': 16.4403, 'rougeL': 34.3736, 'rougeLsum': 34.4631} {'rouge1': 13.8165, 'rouge2': 4.524, 'rougeL': 9.6392, 'rougeLsum': 9.6524}\n",
      "8 {'rouge1': 49.4314, 'rouge2': 16.8122, 'rougeL': 35.5041, 'rougeLsum': 35.6536} {'rouge1': 12.9018, 'rouge2': 4.167, 'rougeL': 8.9521, 'rougeLsum': 8.9583}\n",
      "9 {'rouge1': 50.6229, 'rouge2': 17.1101, 'rougeL': 36.6001, 'rougeLsum': 36.7152} {'rouge1': 12.1384, 'rouge2': 3.8845, 'rougeL': 8.4154, 'rougeLsum': 8.4153}\n",
      "10 {'rouge1': 52.0889, 'rouge2': 17.4218, 'rougeL': 37.4398, 'rougeLsum': 37.5576} {'rouge1': 11.4029, 'rouge2': 3.5918, 'rougeL': 7.8593, 'rougeLsum': 7.8635}\n",
      "11 {'rouge1': 52.9594, 'rouge2': 17.6364, 'rougeL': 38.2072, 'rougeLsum': 38.3252} {'rouge1': 10.7288, 'rouge2': 3.3502, 'rougeL': 7.3946, 'rougeLsum': 7.3926}\n",
      "12 {'rouge1': 53.8757, 'rouge2': 17.8175, 'rougeL': 39.0496, 'rougeLsum': 39.1518} {'rouge1': 10.214, 'rouge2': 3.1609, 'rougeL': 7.0647, 'rougeLsum': 7.0712}\n",
      "13 {'rouge1': 54.6047, 'rouge2': 17.9447, 'rougeL': 39.7499, 'rougeLsum': 39.8464} {'rouge1': 9.7159, 'rouge2': 2.9907, 'rougeL': 6.7594, 'rougeLsum': 6.763}\n",
      "14 {'rouge1': 55.2129, 'rouge2': 18.0706, 'rougeL': 40.2885, 'rougeLsum': 40.3724} {'rouge1': 9.2632, 'rouge2': 2.8356, 'rougeL': 6.4555, 'rougeLsum': 6.4602}\n",
      "15 {'rouge1': 56.1044, 'rouge2': 18.4439, 'rougeL': 40.8514, 'rougeLsum': 40.8981} {'rouge1': 8.8524, 'rouge2': 2.7257, 'rougeL': 6.1748, 'rougeLsum': 6.1754}\n",
      "16 {'rouge1': 56.7576, 'rouge2': 18.6036, 'rougeL': 41.4425, 'rougeLsum': 41.5386} {'rouge1': 8.5111, 'rouge2': 2.6003, 'rougeL': 5.947, 'rougeLsum': 5.9526}\n",
      "17 {'rouge1': 57.3228, 'rouge2': 18.7039, 'rougeL': 41.7363, 'rougeLsum': 41.8471} {'rouge1': 8.2136, 'rouge2': 2.4913, 'rougeL': 5.7172, 'rougeLsum': 5.7172}\n",
      "18 {'rouge1': 57.8977, 'rouge2': 18.7986, 'rougeL': 42.2281, 'rougeLsum': 42.3071} {'rouge1': 7.9485, 'rouge2': 2.3911, 'rougeL': 5.5286, 'rougeLsum': 5.52}\n",
      "19 {'rouge1': 58.3913, 'rouge2': 18.8776, 'rougeL': 42.5803, 'rougeLsum': 42.698} {'rouge1': 7.6751, 'rouge2': 2.2916, 'rougeL': 5.326, 'rougeLsum': 5.3195}\n",
      "20 {'rouge1': 58.8073, 'rouge2': 18.9803, 'rougeL': 42.9755, 'rougeLsum': 43.0882} {'rouge1': 7.3995, 'rouge2': 2.2109, 'rougeL': 5.1593, 'rougeLsum': 5.1569}\n",
      "21 {'rouge1': 59.1685, 'rouge2': 19.0123, 'rougeL': 43.2939, 'rougeLsum': 43.4193} {'rouge1': 7.1632, 'rouge2': 2.1238, 'rougeL': 4.9983, 'rougeLsum': 4.9981}\n",
      "22 {'rouge1': 59.6267, 'rouge2': 19.1128, 'rougeL': 43.7357, 'rougeLsum': 43.8298} {'rouge1': 6.9492, 'rouge2': 2.0517, 'rougeL': 4.8552, 'rougeLsum': 4.8532}\n",
      "23 {'rouge1': 59.938, 'rouge2': 19.1846, 'rougeL': 44.0149, 'rougeLsum': 44.1144} {'rouge1': 6.7319, 'rouge2': 1.9854, 'rougeL': 4.7086, 'rougeLsum': 4.7121}\n",
      "24 {'rouge1': 60.382, 'rouge2': 19.2826, 'rougeL': 44.3775, 'rougeLsum': 44.5044} {'rouge1': 6.5191, 'rouge2': 1.9179, 'rougeL': 4.5706, 'rougeLsum': 4.5713}\n",
      "25 {'rouge1': 60.7855, 'rouge2': 19.3378, 'rougeL': 44.5962, 'rougeLsum': 44.7644} {'rouge1': 6.3305, 'rouge2': 1.8482, 'rougeL': 4.4403, 'rougeLsum': 4.4427}\n",
      "26 {'rouge1': 61.2495, 'rouge2': 19.4078, 'rougeL': 44.8902, 'rougeLsum': 44.9966} {'rouge1': 6.1726, 'rouge2': 1.7936, 'rougeL': 4.3194, 'rougeLsum': 4.3252}\n",
      "27 {'rouge1': 61.5718, 'rouge2': 19.4546, 'rougeL': 45.0918, 'rougeLsum': 45.235} {'rouge1': 6.0154, 'rouge2': 1.7411, 'rougeL': 4.2022, 'rougeLsum': 4.2088}\n",
      "28 {'rouge1': 61.8569, 'rouge2': 19.4957, 'rougeL': 45.3437, 'rougeLsum': 45.4771} {'rouge1': 5.8723, 'rouge2': 1.6886, 'rougeL': 4.107, 'rougeLsum': 4.1043}\n",
      "29 {'rouge1': 62.3181, 'rouge2': 19.5615, 'rougeL': 45.5697, 'rougeLsum': 45.7259} {'rouge1': 5.7192, 'rouge2': 1.6401, 'rougeL': 3.9961, 'rougeLsum': 3.9926}\n",
      "30 {'rouge1': 62.5891, 'rouge2': 19.584, 'rougeL': 45.916, 'rougeLsum': 46.081} {'rouge1': 5.608, 'rouge2': 1.6, 'rougeL': 3.9222, 'rougeLsum': 3.9195}\n",
      "31 {'rouge1': 63.0209, 'rouge2': 19.6083, 'rougeL': 46.1296, 'rougeLsum': 46.3096} {'rouge1': 5.4828, 'rouge2': 1.5613, 'rougeL': 3.8352, 'rougeLsum': 3.8305}\n",
      "32 {'rouge1': 63.1327, 'rouge2': 19.6425, 'rougeL': 46.3951, 'rougeLsum': 46.5628} {'rouge1': 5.3362, 'rouge2': 1.5197, 'rougeL': 3.7487, 'rougeLsum': 3.7417}\n",
      "33 {'rouge1': 63.3195, 'rouge2': 19.6636, 'rougeL': 46.5733, 'rougeLsum': 46.7119} {'rouge1': 5.2139, 'rouge2': 1.4826, 'rougeL': 3.6655, 'rougeLsum': 3.6604}\n",
      "34 {'rouge1': 63.4835, 'rouge2': 19.7023, 'rougeL': 46.8108, 'rougeLsum': 46.9985} {'rouge1': 5.106, 'rouge2': 1.4474, 'rougeL': 3.602, 'rougeLsum': 3.5964}\n",
      "35 {'rouge1': 63.6176, 'rouge2': 19.7784, 'rougeL': 47.0145, 'rougeLsum': 47.1812} {'rouge1': 4.9964, 'rouge2': 1.4138, 'rougeL': 3.5285, 'rougeLsum': 3.5252}\n",
      "36 {'rouge1': 63.9011, 'rouge2': 19.7704, 'rougeL': 47.1046, 'rougeLsum': 47.26} {'rouge1': 4.9085, 'rouge2': 1.3805, 'rougeL': 3.4535, 'rougeLsum': 3.4493}\n",
      "37 {'rouge1': 64.07, 'rouge2': 19.7704, 'rougeL': 47.2728, 'rougeLsum': 47.4331} {'rouge1': 4.8225, 'rouge2': 1.3506, 'rougeL': 3.3932, 'rougeLsum': 3.3882}\n",
      "38 {'rouge1': 64.2208, 'rouge2': 19.8514, 'rougeL': 47.3529, 'rougeLsum': 47.5079} {'rouge1': 4.7282, 'rouge2': 1.3255, 'rougeL': 3.324, 'rougeLsum': 3.3179}\n",
      "39 {'rouge1': 64.4111, 'rouge2': 19.9187, 'rougeL': 47.6044, 'rougeLsum': 47.7204} {'rouge1': 4.6437, 'rouge2': 1.3009, 'rougeL': 3.271, 'rougeLsum': 3.2659}\n",
      "40 {'rouge1': 64.6752, 'rouge2': 19.9654, 'rougeL': 47.6883, 'rougeLsum': 47.8108} {'rouge1': 4.5744, 'rouge2': 1.2818, 'rougeL': 3.2145, 'rougeLsum': 3.2118}\n"
     ]
    }
   ],
   "source": [
    "use_stemmer = True\n",
    "hit_1_recall = []\n",
    "hit_each_recall = []\n",
    "retrieved_recalls = []\n",
    "retrieved_f1s = []\n",
    "for k in range(1, 41):\n",
    "    hit = 0\n",
    "    total_hit = 0\n",
    "    total_n = 0\n",
    "    total = 0\n",
    "    targets = []\n",
    "    concat_retrieved_CTS = []\n",
    "    for citation_id, citation in CTS_by_citation.items():\n",
    "        targets.append(remove_stop_words(citation[\"citing_sentence\"]))\n",
    "        retrieved_sentences = citation[\"sorted_support_sentences\"][:k]\n",
    "        \n",
    "        concat_retrieved = \"\"\n",
    "        for sent in retrieved_sentences:\n",
    "            concat_retrieved += remove_stop_words(sent)\n",
    "        concat_retrieved_CTS.append(concat_retrieved)\n",
    "        \n",
    "        retrieved_sentences = set(retrieved_sentences)\n",
    "        n_hit = len(retrieved_sentences.intersection(citation[\"all_support_sentences\"]))\n",
    "        n_overlap = len(set(citation[\"sorted_support_sentences\"]).intersection(citation[\"all_support_sentences\"]))\n",
    "        if n_hit > 0:\n",
    "            hit += 1\n",
    "        total_hit += n_hit\n",
    "        if n_overlap > 0:\n",
    "            total_n += 1\n",
    "            total += n_overlap\n",
    "    hit_1_recall.append(round(hit/total_n,4))\n",
    "    hit_each_recall.append(round(total_hit/total,4))\n",
    "    \n",
    "    retrieved_rouge_recall = ROUGE_recall(concat_retrieved_CTS, targets, use_stemmer=use_stemmer)\n",
    "    retrieved_recalls.append(retrieved_rouge_recall)\n",
    "    retrieved_rouge = ROUGE(concat_retrieved_CTS, targets, use_stemmer=use_stemmer)\n",
    "    retrieved_f1s.append(retrieved_rouge)\n",
    "    print(k, retrieved_rouge_recall, retrieved_rouge)"
   ]
  },
  {
   "cell_type": "code",
   "execution_count": 21,
   "id": "9291730e",
   "metadata": {},
   "outputs": [],
   "source": [
    "hit_1_recall_scisumm = [0.260989010989011,\n",
    " 0.32005494505494503,\n",
    " 0.3708791208791209,\n",
    " 0.4100274725274725,\n",
    " 0.4472527472527473,\n",
    " 0.47893772893772896,\n",
    " 0.5070643642072213,\n",
    " 0.5336538461538461,\n",
    " 0.5567765567765568,\n",
    " 0.5766483516483516,\n",
    " 0.5951548451548452,\n",
    " 0.6130952380952381,\n",
    " 0.6297548605240912,\n",
    " 0.6452119309262166,\n",
    " 0.6593406593406593,\n",
    " 0.6723901098901099,\n",
    " 0.6840659340659341,\n",
    " 0.6949023199023199,\n",
    " 0.7050318102949682,\n",
    " 0.7142857142857143,\n",
    " 0.7227891156462585,\n",
    " 0.7307692307692307,\n",
    " 0.7386526516961299,\n",
    " 0.7461080586080586,\n",
    " 0.7530769230769231,\n",
    " 0.7596153846153846,\n",
    " 0.7658730158730159,\n",
    " 0.7716836734693877,\n",
    " 0.7770935960591133,\n",
    " 0.7822344322344322,\n",
    " 0.7873094647288196,\n",
    " 0.7920673076923077,\n",
    " 0.7965367965367965,\n",
    " 0.8008241758241759,\n",
    " 0.804945054945055,\n",
    " 0.8088369963369964,\n",
    " 0.8125185625185625,\n",
    " 0.8160063620589937,\n",
    " 0.8193857424626655,\n",
    " 0.8225961538461538]"
   ]
  },
  {
   "cell_type": "code",
   "execution_count": 22,
   "id": "bce46053",
   "metadata": {},
   "outputs": [],
   "source": [
    "hit_each_recall_scisumm = [0.10474090407938258,\n",
    " 0.13616317530319735,\n",
    " 0.16427783902976847,\n",
    " 0.1868798235942668,\n",
    " 0.20992282249173097,\n",
    " 0.23116501286291805,\n",
    " 0.25043313907702003,\n",
    " 0.26888092613009923,\n",
    " 0.28567928457674874,\n",
    " 0.30066152149944875,\n",
    " 0.31462363435902574,\n",
    " 0.3282800441014333,\n",
    " 0.341616487151217,\n",
    " 0.3542290124429044,\n",
    " 0.3664829106945976,\n",
    " 0.37816979051819183,\n",
    " 0.38926000389130294,\n",
    " 0.40003675119441384,\n",
    " 0.4106075552718621,\n",
    " 0.421058434399118,\n",
    " 0.4310915104740904,\n",
    " 0.4406134108449434,\n",
    " 0.45002636498729687,\n",
    " 0.45916023520764426,\n",
    " 0.46804851157662625,\n",
    " 0.4769315579679417,\n",
    " 0.4855649475274613,\n",
    " 0.49397542920144905,\n",
    " 0.5018819146105007,\n",
    " 0.5094818081587652,\n",
    " 0.5169826083863854,\n",
    " 0.5242213340683572,\n",
    " 0.5313554508703351,\n",
    " 0.5383617614631299,\n",
    " 0.5451567175933217,\n",
    " 0.5516660541467597,\n",
    " 0.5580023242647278,\n",
    " 0.5640631346834561,\n",
    " 0.569954485059226,\n",
    " 0.575606394707828]"
   ]
  },
  {
   "cell_type": "code",
   "execution_count": 59,
   "id": "9d861e32",
   "metadata": {},
   "outputs": [
    {
     "data": {
      "image/png": "[encoded data removed]",
      "text/plain": [
       "<Figure size 600x450 with 1 Axes>"
      ]
     },
     "metadata": {},
     "output_type": "display_data"
    }
   ],
   "source": [
    "fig, ax = plt.subplots(figsize=(6,4.5))\n",
    "hit_any, = plt.plot(np.arange(1,len(hit_1_recall)+1), hit_1_recall, color=\"green\")\n",
    "hit_individual, = plt.plot(np.arange(1,len(hit_1_recall)+1), hit_each_recall, color=\"green\", linestyle=\"--\")\n",
    "hit_any_scisumm, = plt.plot(np.arange(1,len(hit_1_recall)+1), hit_1_recall_scisumm, color=\"orange\")\n",
    "hit_individual_scisumm, = plt.plot(np.arange(1,len(hit_1_recall)+1), hit_each_recall_scisumm, color=\"orange\", linestyle=\"--\")\n",
    "plt.legend([hit_any, hit_individual, hit_any_scisumm, hit_individual_scisumm],\n",
    "           [\"Any (A)\", \"Individial (A)\", \"Any (S)\", \"Individial (S)\",], loc=\"best\")\n",
    "#plt.title(\"Histogram of the len of dominant & reference spans w/o citation marks\")\n",
    "plt.xlabel('Top-k Sentences')\n",
    "plt.ylabel('Recall')\n",
    "ax.spines['top'].set_visible(False)\n",
    "ax.spines['right'].set_visible(False)\n",
    "ax.xaxis.set_ticks_position('bottom')\n",
    "ax.yaxis.set_ticks_position('left')\n",
    "#plt.show()\n",
    "plt.savefig(\"rouge_annotation_recall.pdf\",dpi=600,bbox_inches='tight')"
   ]
  },
  {
   "cell_type": "code",
   "execution_count": 67,
   "id": "d53f47db",
   "metadata": {},
   "outputs": [],
   "source": [
    "top_display = 10\n",
    "rougeL = [result[\"rougeL\"] / 100 for result in retrieved_f1s][:top_display]\n",
    "rougeL_recall = [result[\"rougeL\"] / 100 for result in retrieved_recalls][:top_display]\n",
    "scisumm_rougeL = [result[\"rougeL\"] / 100 for result in scisumm_result][:top_display]\n",
    "scisumm_rougeL_recall = [result[\"rougeL\"] / 100 for result in scisumm_result_recall][:top_display]"
   ]
  },
  {
   "cell_type": "code",
   "execution_count": 69,
   "id": "8abb5c79",
   "metadata": {},
   "outputs": [
    {
     "data": {
      "image/png": "[encoded data removed]",
      "text/plain": [
       "<Figure size 600x450 with 1 Axes>"
      ]
     },
     "metadata": {},
     "output_type": "display_data"
    }
   ],
   "source": [
    "fig, ax = plt.subplots(figsize=(6,4.5))\n",
    "human_A_recall, = plt.plot(np.arange(1,len(rougeL)+1), [annotated_rouge_recall[\"rougeL\"]/ 100] * len(rougeL), color=\"green\", linestyle=\"--\")\n",
    "rougeL_A_recall, = plt.plot(np.arange(1,len(rougeL)+1), rougeL_recall, color=\"green\")\n",
    "human_S_recall, = plt.plot(np.arange(1,len(rougeL)+1), [scisumm_annotated_rouge_recall[\"rougeL\"]/ 100] * len(rougeL), color=\"orange\", linestyle=\"--\")\n",
    "rougeL_S_recall, = plt.plot(np.arange(1,len(rougeL)+1), scisumm_rougeL_recall, color=\"orange\")\n",
    "plt.legend([rougeL_A_recall, human_A_recall,  rougeL_S_recall, human_S_recall],\n",
    "           [\"ROUGE_A\",\"Human_A\", \"ROUGE_S\",\"Human_S\"], loc=\"best\")\n",
    "#plt.title(\"Histogram of the len of dominant & reference spans w/o citation marks\")\n",
    "plt.xlabel('Top-k Sentences')\n",
    "plt.ylabel('ROUGE-L Recall')\n",
    "ax.spines['top'].set_visible(False)\n",
    "ax.spines['right'].set_visible(False)\n",
    "ax.xaxis.set_ticks_position('bottom')\n",
    "ax.yaxis.set_ticks_position('left')\n",
    "ax.xaxis.set_major_locator(MaxNLocator(integer=True))\n",
    "#plt.show()\n",
    "plt.savefig(\"human_annotation_rouge.pdf\",dpi=600,bbox_inches='tight')"
   ]
  },
  {
   "cell_type": "code",
   "execution_count": 63,
   "id": "c29f99d4",
   "metadata": {},
   "outputs": [
    {
     "data": {
      "image/png": "[encoded data removed]",
      "text/plain": [
       "<Figure size 600x450 with 1 Axes>"
      ]
     },
     "metadata": {},
     "output_type": "display_data"
    }
   ],
   "source": [
    "fig, ax = plt.subplots(figsize=(6,4.5))\n",
    "human_A, = plt.plot(np.arange(1,len(rougeL)+1), [annotated_rouge[\"rougeL\"] / 100 ] * len(rougeL), color=\"blue\", linestyle=\"--\")\n",
    "rougeL_A, = plt.plot(np.arange(1,len(rougeL)+1), rougeL, color=\"green\", linestyle=\"--\")\n",
    "human_A_recall, = plt.plot(np.arange(1,len(rougeL)+1), [annotated_rouge_recall[\"rougeL\"]/ 100] * len(rougeL), color=\"blue\")\n",
    "rougeL_A_recall, = plt.plot(np.arange(1,len(rougeL)+1), rougeL_recall, color=\"green\")\n",
    "human_S, = plt.plot(np.arange(1,len(rougeL)+1), [scisumm_annotated_rouge[\"rougeL\"] / 100 ] * len(rougeL), color=\"red\", linestyle=\"--\")\n",
    "rougeL_S, = plt.plot(np.arange(1,len(rougeL)+1), scisumm_rougeL, color=\"orange\", linestyle=\"--\")\n",
    "human_S_recall, = plt.plot(np.arange(1,len(rougeL)+1), [scisumm_annotated_rouge_recall[\"rougeL\"]/ 100] * len(rougeL), color=\"red\")\n",
    "rougeL_S_recall, = plt.plot(np.arange(1,len(rougeL)+1), scisumm_rougeL_recall, color=\"orange\")\n",
    "plt.legend([rougeL_A_recall, human_A_recall, rougeL_A, human_A, rougeL_S_recall, human_S_recall, rougeL_S, human_S],\n",
    "           [\"ROUGE_A recall\",\"Human_A recall\",\"ROUGE_A F1\",\"Human_A F1\", \"ROUGE_S recall\",\"Human_S recall\",\"ROUGE_S F1\",\"Human_S F1\"], loc=\"best\")\n",
    "#plt.title(\"Histogram of the len of dominant & reference spans w/o citation marks\")\n",
    "plt.xlabel('Top-k Sentences')\n",
    "plt.ylabel('ROUGE-L')\n",
    "ax.spines['top'].set_visible(False)\n",
    "ax.spines['right'].set_visible(False)\n",
    "ax.xaxis.set_ticks_position('bottom')\n",
    "ax.yaxis.set_ticks_position('left')\n",
    "ax.xaxis.set_major_locator(MaxNLocator(integer=True))\n",
    "plt.show()\n",
    "#plt.savefig(\"human_annotation_vs_target.pdf\",dpi=600,bbox_inches='tight')\n"
   ]
  },
  {
   "cell_type": "code",
   "execution_count": 39,
   "id": "403a4d6b",
   "metadata": {},
   "outputs": [],
   "source": [
    "with open(\"cl_scisumm_citation_text_dataset.json\") as f:\n",
    "    cl_scisumm_citation_text_dataset = json.load(f)"
   ]
  },
  {
   "cell_type": "code",
   "execution_count": 41,
   "id": "27879c91",
   "metadata": {},
   "outputs": [
    {
     "name": "stdout",
     "output_type": "stream",
     "text": [
      "{'rouge1': 29.8999, 'rouge2': 8.4295, 'rougeL': 22.7046, 'rougeLsum': 22.7328}\n",
      "{'rouge1': 18.2268, 'rouge2': 5.3775, 'rougeL': 13.8277, 'rougeLsum': 13.8038}\n"
     ]
    }
   ],
   "source": [
    "targets = []\n",
    "all_annotated_CTS = []\n",
    "for cited_paper_name, citations in cl_scisumm_citation_text_dataset.items():\n",
    "    for citation_id, citation in citations.items():\n",
    "        targets.append(remove_stop_words(citation[\"citation_text\"]))\n",
    "        annotated_CTS = []\n",
    "        for author, CTS in citation[\"annotated_CTS\"].items():\n",
    "            annotated_CTS.extend(CTS)\n",
    "        annotated_CTS = list(set(annotated_CTS))\n",
    "        annotated_CTS = [remove_stop_words(CTS) for CTS in annotated_CTS]\n",
    "        all_annotated_CTS.append(\" \".join(annotated_CTS))\n",
    "        \n",
    "scisumm_annotated_rouge_recall = ROUGE_recall(all_annotated_CTS, targets, use_stemmer=use_stemmer)\n",
    "scisumm_annotated_rouge = ROUGE(all_annotated_CTS, targets, use_stemmer=use_stemmer)\n",
    "\n",
    "print(scisumm_annotated_rouge_recall)\n",
    "print(scisumm_annotated_rouge)"
   ]
  },
  {
   "cell_type": "code",
   "execution_count": 43,
   "id": "916319a5",
   "metadata": {},
   "outputs": [
    {
     "name": "stdout",
     "output_type": "stream",
     "text": [
      "1\n",
      "{'rouge1': 28.8476, 'rouge2': 12.2007, 'rougeL': 23.7433, 'rougeLsum': 23.7269}\n",
      "{'rouge1': 26.1235, 'rouge2': 11.3111, 'rougeL': 21.4887, 'rougeLsum': 21.4612}\n",
      "2\n",
      "{'rouge1': 37.7591, 'rouge2': 15.2164, 'rougeL': 29.0556, 'rougeLsum': 29.0259}\n",
      "{'rouge1': 23.0609, 'rouge2': 9.1876, 'rougeL': 17.6378, 'rougeLsum': 17.6156}\n",
      "3\n",
      "{'rouge1': 43.2507, 'rouge2': 16.7559, 'rougeL': 32.438, 'rougeLsum': 32.408}\n",
      "{'rouge1': 19.589, 'rouge2': 7.3945, 'rougeL': 14.6571, 'rougeLsum': 14.635}\n",
      "4\n",
      "{'rouge1': 46.3611, 'rouge2': 17.6933, 'rougeL': 35.2382, 'rougeLsum': 35.1987}\n",
      "{'rouge1': 16.8071, 'rouge2': 6.2282, 'rougeL': 12.6473, 'rougeLsum': 12.6282}\n",
      "5\n",
      "{'rouge1': 49.4606, 'rouge2': 18.4385, 'rougeL': 37.249, 'rougeLsum': 37.1957}\n",
      "{'rouge1': 15.0357, 'rouge2': 5.4124, 'rougeL': 11.1693, 'rougeLsum': 11.1547}\n",
      "6\n",
      "{'rouge1': 52.1866, 'rouge2': 19.0917, 'rougeL': 38.8874, 'rougeLsum': 38.8894}\n",
      "{'rouge1': 13.5652, 'rouge2': 4.78, 'rougeL': 9.9599, 'rougeLsum': 9.9364}\n",
      "7\n",
      "{'rouge1': 53.7521, 'rouge2': 19.5542, 'rougeL': 40.1527, 'rougeLsum': 40.1287}\n",
      "{'rouge1': 12.4101, 'rouge2': 4.3172, 'rougeL': 9.0879, 'rougeLsum': 9.0658}\n",
      "8\n",
      "{'rouge1': 55.3839, 'rouge2': 20.0106, 'rougeL': 41.1261, 'rougeLsum': 41.1119}\n",
      "{'rouge1': 11.46, 'rouge2': 3.9277, 'rougeL': 8.3253, 'rougeLsum': 8.307}\n",
      "9\n",
      "{'rouge1': 56.5316, 'rouge2': 20.2427, 'rougeL': 41.9592, 'rougeLsum': 41.9595}\n",
      "{'rouge1': 10.6926, 'rouge2': 3.6226, 'rougeL': 7.7276, 'rougeLsum': 7.7134}\n",
      "10\n",
      "{'rouge1': 57.8507, 'rouge2': 20.5507, 'rougeL': 42.9089, 'rougeLsum': 42.9129}\n",
      "{'rouge1': 10.0415, 'rouge2': 3.3811, 'rougeL': 7.242, 'rougeLsum': 7.2301}\n",
      "11\n",
      "{'rouge1': 59.222, 'rouge2': 20.885, 'rougeL': 43.7792, 'rougeLsum': 43.7812}\n",
      "{'rouge1': 9.4423, 'rouge2': 3.1564, 'rougeL': 6.7982, 'rougeLsum': 6.7879}\n",
      "12\n",
      "{'rouge1': 60.1694, 'rouge2': 21.2594, 'rougeL': 44.5298, 'rougeLsum': 44.5005}\n",
      "{'rouge1': 8.941, 'rouge2': 2.9822, 'rougeL': 6.4321, 'rougeLsum': 6.4172}\n",
      "13\n",
      "{'rouge1': 61.0691, 'rouge2': 21.3819, 'rougeL': 45.1375, 'rougeLsum': 45.1386}\n",
      "{'rouge1': 8.5305, 'rouge2': 2.8165, 'rougeL': 6.115, 'rougeLsum': 6.104}\n",
      "14\n",
      "{'rouge1': 61.9634, 'rouge2': 21.6258, 'rougeL': 45.6885, 'rougeLsum': 45.7288}\n",
      "{'rouge1': 8.1264, 'rouge2': 2.6704, 'rougeL': 5.8116, 'rougeLsum': 5.8057}\n",
      "15\n",
      "{'rouge1': 62.6981, 'rouge2': 21.7962, 'rougeL': 46.2456, 'rougeLsum': 46.2873}\n",
      "{'rouge1': 7.7638, 'rouge2': 2.5377, 'rougeL': 5.5569, 'rougeLsum': 5.5481}\n",
      "16\n",
      "{'rouge1': 63.2885, 'rouge2': 21.8568, 'rougeL': 46.7058, 'rougeLsum': 46.7276}\n",
      "{'rouge1': 7.4228, 'rouge2': 2.413, 'rougeL': 5.3111, 'rougeLsum': 5.3067}\n",
      "17\n",
      "{'rouge1': 64.0284, 'rouge2': 22.0101, 'rougeL': 47.057, 'rougeLsum': 47.0699}\n",
      "{'rouge1': 7.0827, 'rouge2': 2.2784, 'rougeL': 5.0446, 'rougeLsum': 5.0396}\n",
      "18\n",
      "{'rouge1': 64.5613, 'rouge2': 22.0568, 'rougeL': 47.5106, 'rougeLsum': 47.5185}\n",
      "{'rouge1': 6.7959, 'rouge2': 2.1682, 'rougeL': 4.8364, 'rougeLsum': 4.8304}\n",
      "19\n",
      "{'rouge1': 65.0756, 'rouge2': 22.0813, 'rougeL': 47.9622, 'rougeLsum': 47.9751}\n",
      "{'rouge1': 6.5379, 'rouge2': 2.0735, 'rougeL': 4.6663, 'rougeLsum': 4.6617}\n",
      "20\n",
      "{'rouge1': 65.5105, 'rouge2': 22.1615, 'rougeL': 48.5387, 'rougeLsum': 48.5298}\n",
      "{'rouge1': 6.2981, 'rouge2': 1.992, 'rougeL': 4.52, 'rougeLsum': 4.5143}\n",
      "21\n",
      "{'rouge1': 65.9919, 'rouge2': 22.2081, 'rougeL': 49.0496, 'rougeLsum': 49.0304}\n",
      "{'rouge1': 6.0615, 'rouge2': 1.9035, 'rougeL': 4.3595, 'rougeLsum': 4.3557}\n",
      "22\n",
      "{'rouge1': 66.6375, 'rouge2': 22.2809, 'rougeL': 49.4153, 'rougeLsum': 49.3875}\n",
      "{'rouge1': 5.8837, 'rouge2': 1.8336, 'rougeL': 4.2182, 'rougeLsum': 4.2154}\n",
      "23\n",
      "{'rouge1': 66.9125, 'rouge2': 22.3396, 'rougeL': 49.6074, 'rougeLsum': 49.5852}\n",
      "{'rouge1': 5.6707, 'rouge2': 1.765, 'rougeL': 4.0664, 'rougeLsum': 4.0631}\n",
      "24\n",
      "{'rouge1': 67.3107, 'rouge2': 22.3666, 'rougeL': 49.9044, 'rougeLsum': 49.8844}\n",
      "{'rouge1': 5.4813, 'rouge2': 1.6977, 'rougeL': 3.9378, 'rougeLsum': 3.9307}\n",
      "25\n",
      "{'rouge1': 67.6173, 'rouge2': 22.3736, 'rougeL': 50.2497, 'rougeLsum': 50.2471}\n",
      "{'rouge1': 5.3068, 'rouge2': 1.6351, 'rougeL': 3.8167, 'rougeLsum': 3.8116}\n",
      "26\n",
      "{'rouge1': 67.9048, 'rouge2': 22.4567, 'rougeL': 50.6573, 'rougeLsum': 50.6471}\n",
      "{'rouge1': 5.1399, 'rouge2': 1.5825, 'rougeL': 3.7095, 'rougeLsum': 3.703}\n",
      "27\n",
      "{'rouge1': 68.1483, 'rouge2': 22.4755, 'rougeL': 50.8295, 'rougeLsum': 50.8106}\n",
      "{'rouge1': 4.996, 'rouge2': 1.5341, 'rougeL': 3.6034, 'rougeLsum': 3.5958}\n",
      "28\n",
      "{'rouge1': 68.511, 'rouge2': 22.4887, 'rougeL': 51.0367, 'rougeLsum': 51.0008}\n",
      "{'rouge1': 4.873, 'rouge2': 1.4881, 'rougeL': 3.506, 'rougeLsum': 3.4996}\n",
      "29\n",
      "{'rouge1': 68.7181, 'rouge2': 22.5061, 'rougeL': 51.2086, 'rougeLsum': 51.1856}\n",
      "{'rouge1': 4.7428, 'rouge2': 1.4438, 'rougeL': 3.4126, 'rougeLsum': 3.4069}\n",
      "30\n",
      "{'rouge1': 68.9839, 'rouge2': 22.5652, 'rougeL': 51.331, 'rougeLsum': 51.3304}\n",
      "{'rouge1': 4.6257, 'rouge2': 1.404, 'rougeL': 3.3221, 'rougeLsum': 3.317}\n",
      "31\n",
      "{'rouge1': 69.1225, 'rouge2': 22.5855, 'rougeL': 51.5866, 'rougeLsum': 51.5787}\n",
      "{'rouge1': 4.5044, 'rouge2': 1.3654, 'rougeL': 3.2444, 'rougeLsum': 3.2405}\n",
      "32\n",
      "{'rouge1': 69.3348, 'rouge2': 22.6027, 'rougeL': 51.8208, 'rougeLsum': 51.809}\n",
      "{'rouge1': 4.4006, 'rouge2': 1.3306, 'rougeL': 3.175, 'rougeLsum': 3.1728}\n",
      "33\n",
      "{'rouge1': 69.5933, 'rouge2': 22.6499, 'rougeL': 51.9791, 'rougeLsum': 51.9554}\n",
      "{'rouge1': 4.3046, 'rouge2': 1.3001, 'rougeL': 3.1045, 'rougeLsum': 3.1026}\n",
      "34\n",
      "{'rouge1': 69.8103, 'rouge2': 22.6581, 'rougeL': 52.0948, 'rougeLsum': 52.0815}\n",
      "{'rouge1': 4.2061, 'rouge2': 1.2662, 'rougeL': 3.0322, 'rougeLsum': 3.0293}\n",
      "35\n",
      "{'rouge1': 70.0445, 'rouge2': 22.6655, 'rougeL': 52.2781, 'rougeLsum': 52.2478}\n",
      "{'rouge1': 4.1153, 'rouge2': 1.2359, 'rougeL': 2.9678, 'rougeLsum': 2.9643}\n",
      "36\n",
      "{'rouge1': 70.2048, 'rouge2': 22.681, 'rougeL': 52.4423, 'rougeLsum': 52.4244}\n",
      "{'rouge1': 4.0245, 'rouge2': 1.2076, 'rougeL': 2.9042, 'rougeLsum': 2.9036}\n",
      "37\n",
      "{'rouge1': 70.4157, 'rouge2': 22.6949, 'rougeL': 52.5055, 'rougeLsum': 52.5141}\n",
      "{'rouge1': 3.9412, 'rouge2': 1.1813, 'rougeL': 2.8399, 'rougeLsum': 2.8394}\n",
      "38\n",
      "{'rouge1': 70.6199, 'rouge2': 22.7192, 'rougeL': 52.698, 'rougeLsum': 52.7134}\n",
      "{'rouge1': 3.8589, 'rouge2': 1.1545, 'rougeL': 2.781, 'rougeLsum': 2.7801}\n",
      "39\n",
      "{'rouge1': 70.9059, 'rouge2': 22.7192, 'rougeL': 52.8071, 'rougeLsum': 52.81}\n",
      "{'rouge1': 3.7857, 'rouge2': 1.1276, 'rougeL': 2.7225, 'rougeLsum': 2.7204}\n"
     ]
    }
   ],
   "source": [
    "scisumm_result_recall = []\n",
    "scisumm_result = []\n",
    "\n",
    "for k in range(1,40):\n",
    "    #targets = []\n",
    "    all_retrieved_CTS = []\n",
    "    for cited_paper_name, citations in cl_scisumm_citation_text_dataset.items():\n",
    "        for citation_id, citation in citations.items():\n",
    "            #targets.append(remove_stop_words(citation[\"citation_text\"]))\n",
    "            retrieved_CTS = [remove_stop_words(CTS) for CTS in citation[\"rouge_ranked_CTS\"][:k]]\n",
    "            all_retrieved_CTS.append(\" \".join(retrieved_CTS))\n",
    "\n",
    "    scisumm_rouge_recall = ROUGE_recall(all_retrieved_CTS, targets, use_stemmer=use_stemmer)\n",
    "    scisumm_rouge = ROUGE(all_retrieved_CTS, targets, use_stemmer=use_stemmer)\n",
    "    scisumm_result_recall.append(scisumm_rouge_recall)\n",
    "    scisumm_result.append(scisumm_rouge)\n",
    "    print(k)\n",
    "    print(scisumm_rouge_recall)\n",
    "    print(scisumm_rouge)"
   ]
  }
 ],
 "metadata": {
  "kernelspec": {
   "display_name": "Python 3 (ipykernel)",
   "language": "python",
   "name": "python3"
  },
  "language_info": {
   "codemirror_mode": {
    "name": "ipython",
    "version": 3
   },
   "file_extension": ".py",
   "mimetype": "text/x-python",
   "name": "python",
   "nbconvert_exporter": "python",
   "pygments_lexer": "ipython3",
   "version": "3.7.13"
  }
 },
 "nbformat": 4,
 "nbformat_minor": 5
}
